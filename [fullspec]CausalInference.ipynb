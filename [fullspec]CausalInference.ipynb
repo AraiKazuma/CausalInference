{
 "cells": [
  {
   "cell_type": "markdown",
   "metadata": {},
   "source": [
    "# Causal Inference full spec(因果推論フルスペック)\n",
    "## we can do Causal Inference with this python program"
   ]
  },
  {
   "cell_type": "code",
   "execution_count": 116,
   "metadata": {},
   "outputs": [],
   "source": [
    "#ＲＥＦＥＲＥＮＣＥ↓（参考にさせていただいた記事）\n",
    "#https://qiita.com/usaito/items/09daccdd91bc98c21dff"
   ]
  },
  {
   "cell_type": "code",
   "execution_count": 1,
   "metadata": {},
   "outputs": [],
   "source": [
    "import numpy as np\n",
    "import pandas as pd\n",
    "from sklearn.model_selection import train_test_split"
   ]
  },
  {
   "cell_type": "markdown",
   "metadata": {},
   "source": [
    "# Reading data and Aggregating(データ読み込み＆集計)"
   ]
  },
  {
   "cell_type": "code",
   "execution_count": 2,
   "metadata": {
    "scrolled": false
   },
   "outputs": [
    {
     "data": {
      "text/html": [
       "<div>\n",
       "<style scoped>\n",
       "    .dataframe tbody tr th:only-of-type {\n",
       "        vertical-align: middle;\n",
       "    }\n",
       "\n",
       "    .dataframe tbody tr th {\n",
       "        vertical-align: top;\n",
       "    }\n",
       "\n",
       "    .dataframe thead th {\n",
       "        text-align: right;\n",
       "    }\n",
       "</style>\n",
       "<table border=\"1\" class=\"dataframe\">\n",
       "  <thead>\n",
       "    <tr style=\"text-align: right;\">\n",
       "      <th>cm_dummy</th>\n",
       "      <th>0</th>\n",
       "      <th>1</th>\n",
       "    </tr>\n",
       "    <tr>\n",
       "      <th>gamedummy</th>\n",
       "      <th></th>\n",
       "      <th></th>\n",
       "    </tr>\n",
       "  </thead>\n",
       "  <tbody>\n",
       "    <tr>\n",
       "      <th>0</th>\n",
       "      <td>5428</td>\n",
       "      <td>3832</td>\n",
       "    </tr>\n",
       "    <tr>\n",
       "      <th>1</th>\n",
       "      <td>428</td>\n",
       "      <td>312</td>\n",
       "    </tr>\n",
       "  </tbody>\n",
       "</table>\n",
       "</div>"
      ],
      "text/plain": [
       "cm_dummy      0     1\n",
       "gamedummy            \n",
       "0          5428  3832\n",
       "1           428   312"
      ]
     },
     "execution_count": 2,
     "metadata": {},
     "output_type": "execute_result"
    }
   ],
   "source": [
    "# READING\n",
    "data_df = pd.read_csv('https://github.com/iwanami-datascience/vol3/raw/master/kato%26hoshino/q_data_x.csv')\n",
    "data_df.head()\n",
    "\n",
    "# Cross-tabulation of application usage dummy and CM viewing(アプリ利用ダミーとCM視聴有無のクロス集計)\n",
    "pd.crosstab(data_df.gamedummy, data_df.cm_dummy)"
   ]
  },
  {
   "cell_type": "code",
   "execution_count": 3,
   "metadata": {},
   "outputs": [
    {
     "data": {
      "text/plain": [
       "-1.4845493913116865"
      ]
     },
     "execution_count": 3,
     "metadata": {},
     "output_type": "execute_result"
    }
   ],
   "source": [
    "# Calculate the difference in the number of times the app is used depending on whether you are watching a commercial\n",
    "#CM視聴有無でのアプリ利用回数の差を計算\n",
    "data_df[data_df.cm_dummy == 1].gamecount.mean() - data_df[data_df.cm_dummy == 0].gamecount.mean()"
   ]
  },
  {
   "cell_type": "code",
   "execution_count": 4,
   "metadata": {},
   "outputs": [
    {
     "data": {
      "text/plain": [
       "-629.6405765396544"
      ]
     },
     "execution_count": 4,
     "metadata": {},
     "output_type": "execute_result"
    }
   ],
   "source": [
    "# Calculate the difference in app usage time with and without CM viewing(CM視聴有無でのアプリ利用時間の差を計算)\n",
    "data_df[data_df.cm_dummy == 1].gamesecond.mean() - data_df[data_df.cm_dummy == 0].gamesecond.mean()"
   ]
  },
  {
   "cell_type": "code",
   "execution_count": 5,
   "metadata": {},
   "outputs": [
    {
     "data": {
      "text/html": [
       "<div>\n",
       "<style scoped>\n",
       "    .dataframe tbody tr th:only-of-type {\n",
       "        vertical-align: middle;\n",
       "    }\n",
       "\n",
       "    .dataframe tbody tr th {\n",
       "        vertical-align: top;\n",
       "    }\n",
       "\n",
       "    .dataframe thead th {\n",
       "        text-align: right;\n",
       "    }\n",
       "</style>\n",
       "<table border=\"1\" class=\"dataframe\">\n",
       "  <thead>\n",
       "    <tr style=\"text-align: right;\">\n",
       "      <th></th>\n",
       "      <th>cm_dummy</th>\n",
       "      <th>gamedummy</th>\n",
       "      <th>area_kanto</th>\n",
       "      <th>area_keihan</th>\n",
       "      <th>area_tokai</th>\n",
       "      <th>area_keihanshin</th>\n",
       "      <th>age</th>\n",
       "      <th>sex</th>\n",
       "      <th>marry_dummy</th>\n",
       "      <th>job_dummy1</th>\n",
       "      <th>...</th>\n",
       "      <th>T</th>\n",
       "      <th>F1</th>\n",
       "      <th>F2</th>\n",
       "      <th>F3</th>\n",
       "      <th>M1</th>\n",
       "      <th>M2</th>\n",
       "      <th>M3</th>\n",
       "      <th>TVwatch_day</th>\n",
       "      <th>gamesecond</th>\n",
       "      <th>gamecount</th>\n",
       "    </tr>\n",
       "  </thead>\n",
       "  <tbody>\n",
       "    <tr>\n",
       "      <th>0</th>\n",
       "      <td>0</td>\n",
       "      <td>0</td>\n",
       "      <td>0</td>\n",
       "      <td>0</td>\n",
       "      <td>0</td>\n",
       "      <td>1</td>\n",
       "      <td>44.5</td>\n",
       "      <td>1</td>\n",
       "      <td>1</td>\n",
       "      <td>1</td>\n",
       "      <td>...</td>\n",
       "      <td>0</td>\n",
       "      <td>0</td>\n",
       "      <td>0</td>\n",
       "      <td>0</td>\n",
       "      <td>0</td>\n",
       "      <td>1</td>\n",
       "      <td>0</td>\n",
       "      <td>33.427600</td>\n",
       "      <td>0</td>\n",
       "      <td>0</td>\n",
       "    </tr>\n",
       "    <tr>\n",
       "      <th>1</th>\n",
       "      <td>0</td>\n",
       "      <td>0</td>\n",
       "      <td>0</td>\n",
       "      <td>1</td>\n",
       "      <td>0</td>\n",
       "      <td>0</td>\n",
       "      <td>34.5</td>\n",
       "      <td>1</td>\n",
       "      <td>1</td>\n",
       "      <td>1</td>\n",
       "      <td>...</td>\n",
       "      <td>0</td>\n",
       "      <td>0</td>\n",
       "      <td>0</td>\n",
       "      <td>0</td>\n",
       "      <td>0</td>\n",
       "      <td>1</td>\n",
       "      <td>0</td>\n",
       "      <td>31.542862</td>\n",
       "      <td>0</td>\n",
       "      <td>0</td>\n",
       "    </tr>\n",
       "    <tr>\n",
       "      <th>2</th>\n",
       "      <td>0</td>\n",
       "      <td>0</td>\n",
       "      <td>0</td>\n",
       "      <td>1</td>\n",
       "      <td>0</td>\n",
       "      <td>0</td>\n",
       "      <td>24.5</td>\n",
       "      <td>1</td>\n",
       "      <td>0</td>\n",
       "      <td>0</td>\n",
       "      <td>...</td>\n",
       "      <td>0</td>\n",
       "      <td>0</td>\n",
       "      <td>0</td>\n",
       "      <td>0</td>\n",
       "      <td>1</td>\n",
       "      <td>0</td>\n",
       "      <td>0</td>\n",
       "      <td>37.825805</td>\n",
       "      <td>0</td>\n",
       "      <td>0</td>\n",
       "    </tr>\n",
       "    <tr>\n",
       "      <th>3</th>\n",
       "      <td>0</td>\n",
       "      <td>0</td>\n",
       "      <td>0</td>\n",
       "      <td>1</td>\n",
       "      <td>0</td>\n",
       "      <td>0</td>\n",
       "      <td>44.5</td>\n",
       "      <td>1</td>\n",
       "      <td>1</td>\n",
       "      <td>1</td>\n",
       "      <td>...</td>\n",
       "      <td>0</td>\n",
       "      <td>0</td>\n",
       "      <td>0</td>\n",
       "      <td>0</td>\n",
       "      <td>0</td>\n",
       "      <td>1</td>\n",
       "      <td>0</td>\n",
       "      <td>36.345911</td>\n",
       "      <td>0</td>\n",
       "      <td>0</td>\n",
       "    </tr>\n",
       "    <tr>\n",
       "      <th>4</th>\n",
       "      <td>0</td>\n",
       "      <td>0</td>\n",
       "      <td>0</td>\n",
       "      <td>1</td>\n",
       "      <td>0</td>\n",
       "      <td>0</td>\n",
       "      <td>34.5</td>\n",
       "      <td>1</td>\n",
       "      <td>1</td>\n",
       "      <td>1</td>\n",
       "      <td>...</td>\n",
       "      <td>0</td>\n",
       "      <td>0</td>\n",
       "      <td>0</td>\n",
       "      <td>0</td>\n",
       "      <td>1</td>\n",
       "      <td>0</td>\n",
       "      <td>0</td>\n",
       "      <td>49.344942</td>\n",
       "      <td>0</td>\n",
       "      <td>0</td>\n",
       "    </tr>\n",
       "    <tr>\n",
       "      <th>5</th>\n",
       "      <td>0</td>\n",
       "      <td>0</td>\n",
       "      <td>0</td>\n",
       "      <td>1</td>\n",
       "      <td>0</td>\n",
       "      <td>0</td>\n",
       "      <td>24.5</td>\n",
       "      <td>0</td>\n",
       "      <td>0</td>\n",
       "      <td>0</td>\n",
       "      <td>...</td>\n",
       "      <td>0</td>\n",
       "      <td>1</td>\n",
       "      <td>0</td>\n",
       "      <td>0</td>\n",
       "      <td>0</td>\n",
       "      <td>0</td>\n",
       "      <td>0</td>\n",
       "      <td>48.417899</td>\n",
       "      <td>0</td>\n",
       "      <td>0</td>\n",
       "    </tr>\n",
       "    <tr>\n",
       "      <th>6</th>\n",
       "      <td>0</td>\n",
       "      <td>0</td>\n",
       "      <td>0</td>\n",
       "      <td>0</td>\n",
       "      <td>0</td>\n",
       "      <td>1</td>\n",
       "      <td>19.0</td>\n",
       "      <td>0</td>\n",
       "      <td>0</td>\n",
       "      <td>0</td>\n",
       "      <td>...</td>\n",
       "      <td>1</td>\n",
       "      <td>0</td>\n",
       "      <td>0</td>\n",
       "      <td>0</td>\n",
       "      <td>0</td>\n",
       "      <td>0</td>\n",
       "      <td>0</td>\n",
       "      <td>53.426757</td>\n",
       "      <td>0</td>\n",
       "      <td>0</td>\n",
       "    </tr>\n",
       "    <tr>\n",
       "      <th>7</th>\n",
       "      <td>0</td>\n",
       "      <td>0</td>\n",
       "      <td>0</td>\n",
       "      <td>0</td>\n",
       "      <td>1</td>\n",
       "      <td>0</td>\n",
       "      <td>54.5</td>\n",
       "      <td>0</td>\n",
       "      <td>1</td>\n",
       "      <td>1</td>\n",
       "      <td>...</td>\n",
       "      <td>0</td>\n",
       "      <td>0</td>\n",
       "      <td>0</td>\n",
       "      <td>1</td>\n",
       "      <td>0</td>\n",
       "      <td>0</td>\n",
       "      <td>0</td>\n",
       "      <td>56.697458</td>\n",
       "      <td>0</td>\n",
       "      <td>0</td>\n",
       "    </tr>\n",
       "    <tr>\n",
       "      <th>8</th>\n",
       "      <td>0</td>\n",
       "      <td>0</td>\n",
       "      <td>0</td>\n",
       "      <td>1</td>\n",
       "      <td>0</td>\n",
       "      <td>0</td>\n",
       "      <td>44.5</td>\n",
       "      <td>1</td>\n",
       "      <td>1</td>\n",
       "      <td>1</td>\n",
       "      <td>...</td>\n",
       "      <td>0</td>\n",
       "      <td>0</td>\n",
       "      <td>0</td>\n",
       "      <td>0</td>\n",
       "      <td>0</td>\n",
       "      <td>1</td>\n",
       "      <td>0</td>\n",
       "      <td>61.996340</td>\n",
       "      <td>0</td>\n",
       "      <td>0</td>\n",
       "    </tr>\n",
       "    <tr>\n",
       "      <th>9</th>\n",
       "      <td>0</td>\n",
       "      <td>0</td>\n",
       "      <td>0</td>\n",
       "      <td>1</td>\n",
       "      <td>0</td>\n",
       "      <td>0</td>\n",
       "      <td>34.5</td>\n",
       "      <td>1</td>\n",
       "      <td>0</td>\n",
       "      <td>1</td>\n",
       "      <td>...</td>\n",
       "      <td>0</td>\n",
       "      <td>0</td>\n",
       "      <td>0</td>\n",
       "      <td>0</td>\n",
       "      <td>1</td>\n",
       "      <td>0</td>\n",
       "      <td>0</td>\n",
       "      <td>64.557893</td>\n",
       "      <td>0</td>\n",
       "      <td>0</td>\n",
       "    </tr>\n",
       "  </tbody>\n",
       "</table>\n",
       "<p>10 rows × 35 columns</p>\n",
       "</div>"
      ],
      "text/plain": [
       "   cm_dummy  gamedummy  area_kanto  area_keihan  area_tokai  area_keihanshin  \\\n",
       "0         0          0           0            0           0                1   \n",
       "1         0          0           0            1           0                0   \n",
       "2         0          0           0            1           0                0   \n",
       "3         0          0           0            1           0                0   \n",
       "4         0          0           0            1           0                0   \n",
       "5         0          0           0            1           0                0   \n",
       "6         0          0           0            0           0                1   \n",
       "7         0          0           0            0           1                0   \n",
       "8         0          0           0            1           0                0   \n",
       "9         0          0           0            1           0                0   \n",
       "\n",
       "    age  sex  marry_dummy  job_dummy1  ...  T  F1  F2  F3  M1  M2  M3  \\\n",
       "0  44.5    1            1           1  ...  0   0   0   0   0   1   0   \n",
       "1  34.5    1            1           1  ...  0   0   0   0   0   1   0   \n",
       "2  24.5    1            0           0  ...  0   0   0   0   1   0   0   \n",
       "3  44.5    1            1           1  ...  0   0   0   0   0   1   0   \n",
       "4  34.5    1            1           1  ...  0   0   0   0   1   0   0   \n",
       "5  24.5    0            0           0  ...  0   1   0   0   0   0   0   \n",
       "6  19.0    0            0           0  ...  1   0   0   0   0   0   0   \n",
       "7  54.5    0            1           1  ...  0   0   0   1   0   0   0   \n",
       "8  44.5    1            1           1  ...  0   0   0   0   0   1   0   \n",
       "9  34.5    1            0           1  ...  0   0   0   0   1   0   0   \n",
       "\n",
       "   TVwatch_day  gamesecond  gamecount  \n",
       "0    33.427600           0          0  \n",
       "1    31.542862           0          0  \n",
       "2    37.825805           0          0  \n",
       "3    36.345911           0          0  \n",
       "4    49.344942           0          0  \n",
       "5    48.417899           0          0  \n",
       "6    53.426757           0          0  \n",
       "7    56.697458           0          0  \n",
       "8    61.996340           0          0  \n",
       "9    64.557893           0          0  \n",
       "\n",
       "[10 rows x 35 columns]"
      ]
     },
     "execution_count": 5,
     "metadata": {},
     "output_type": "execute_result"
    }
   ],
   "source": [
    "data_df[:10]"
   ]
  },
  {
   "cell_type": "code",
   "execution_count": null,
   "metadata": {},
   "outputs": [],
   "source": [
    "import pandas_profiling as pdp\n",
    "pdp.ProfileReport(data_df)"
   ]
  },
  {
   "cell_type": "markdown",
   "metadata": {},
   "source": [
    "# Caluculating and Evaluation Propensity Score (傾向スコアの算出＆評価)"
   ]
  },
  {
   "cell_type": "code",
   "execution_count": 6,
   "metadata": {},
   "outputs": [],
   "source": [
    "from sklearn.linear_model import LogisticRegression"
   ]
  },
  {
   "cell_type": "code",
   "execution_count": 7,
   "metadata": {},
   "outputs": [],
   "source": [
    "# 説明変数\n",
    "cols = [\"age\", \"sex\", \"TVwatch_day\", \"marry_dummy\", \"child_dummy\", \"inc\", \"pmoney\",\n",
    "        \"area_kanto\", \"area_tokai\", \"area_keihanshin\",\n",
    "        \"job_dummy1\", \"job_dummy2\", \"job_dummy3\", \"job_dummy4\", \"job_dummy5\", \"job_dummy6\",\n",
    "        \"fam_str_dummy1\", \"fam_str_dummy2\", \"fam_str_dummy3\", \"fam_str_dummy4\"]\n",
    "X = data_df[cols].copy()\n",
    "\n",
    "# 切片の導入\n",
    "X.loc[:, \"Intercept\"] = 1\n",
    "\n",
    "# CM視聴有無ダミー\n",
    "z1 = data_df.cm_dummy\n",
    "\n",
    "# 目的変数群（1:アプリ利用ダミー, 2:アプリ利用回数、3:アプリ利用時間）\n",
    "y1 = data_df.gamedummy\n",
    "y2 = data_df.gamecount\n",
    "y3 = data_df.gamesecond\n",
    "\n",
    "#モデルの生成\n",
    "clf = LogisticRegression(C=10000)\n",
    "#学習\n",
    "clf.fit(X,z1)\n",
    "#モデルに伴う生存率の予測値\n",
    "ps = clf.predict_proba(X)"
   ]
  },
  {
   "cell_type": "code",
   "execution_count": 8,
   "metadata": {},
   "outputs": [
    {
     "data": {
      "text/plain": [
       "<matplotlib.axes._subplots.AxesSubplot at 0x22a3665d278>"
      ]
     },
     "execution_count": 8,
     "metadata": {},
     "output_type": "execute_result"
    }
   ],
   "source": [
    "import seaborn as sns\n",
    "sns.distplot(ps[:,1])"
   ]
  },
  {
   "cell_type": "code",
   "execution_count": 9,
   "metadata": {},
   "outputs": [
    {
     "data": {
      "text/plain": [
       "0.7836189114685529"
      ]
     },
     "execution_count": 9,
     "metadata": {},
     "output_type": "execute_result"
    }
   ],
   "source": [
    "from sklearn.metrics import roc_curve\n",
    "from sklearn import metrics\n",
    "\n",
    "fpr, tpr, thresholds = roc_curve(z1, ps[:,1])\n",
    "metrics.auc(fpr, tpr)\n",
    "\n",
    "#------------------------------------\n",
    "#0.8以上\t効果がすごくいい\n",
    "#0.7-0.8\t効果があります\n",
    "#0.6-0.7\t効果が多少あります\n",
    "#0.5-0.6\t効果がありません\n",
    "#------------------------------------"
   ]
  },
  {
   "cell_type": "markdown",
   "metadata": {},
   "source": [
    "# Computing ATE (平均介入効果(ＡＴＥ)の算出)"
   ]
  },
  {
   "cell_type": "code",
   "execution_count": 10,
   "metadata": {},
   "outputs": [],
   "source": [
    "ps1 =  ps[:,1]"
   ]
  },
  {
   "cell_type": "code",
   "execution_count": 11,
   "metadata": {},
   "outputs": [],
   "source": [
    "z1a =  np.array(z1)\n",
    "y1a =  np.array(y1)\n",
    "y2a =  np.array(y2)\n",
    "y3a =  np.array(y3)"
   ]
  },
  {
   "cell_type": "code",
   "execution_count": 12,
   "metadata": {},
   "outputs": [
    {
     "name": "stdout",
     "output_type": "stream",
     "text": [
      "0.002202143595586223\n",
      "0.031938505081500326\n"
     ]
    }
   ],
   "source": [
    "#傾向スコアを加味せず、単純に効果をひく。\n",
    "n_ipwe11 = sum((z1a * y1a)) / sum(z1a )  # 介入群＝z1aが１のデータ。\n",
    "n_ipwe10 = sum(((1 - z1a) * y1a)) / sum((1 - z1a))  # 統制群＝# 介入群＝z1aが0のデータ。\n",
    "n_ATE1 = n_ipwe11 - n_ipwe10\n",
    "\n",
    "#介入により、アプリ利用有無に変化があったと言えるか？\n",
    "# IPWによりアプリ利用ダミーへのATEを推定\n",
    "ipwe11 = sum((z1a * y1a) / ps1) / sum(z1a / ps1)  # 介入群＝z1aが１のデータ。\n",
    "ipwe10 = sum(((1 - z1a) * y1a) / (1 - ps1)) / sum((1 - z1a) / (1 - ps1))  # 統制群＝# 介入群＝z1aが0のデータ。\n",
    "ATE1 = ipwe11 - ipwe10\n",
    "\n",
    "print(n_ATE1)\n",
    "print(ATE1)"
   ]
  },
  {
   "cell_type": "code",
   "execution_count": 13,
   "metadata": {},
   "outputs": [
    {
     "name": "stdout",
     "output_type": "stream",
     "text": [
      "-1.4845493913116865\n",
      "4.18725183238292\n"
     ]
    }
   ],
   "source": [
    "#傾向スコアを加味せず、単純に効果をひく。\n",
    "n_ipwe21 = sum((z1a * y2a)) / sum(z1a )  # 介入群＝z1aが１のデータ。\n",
    "n_ipwe20 = sum(((1 - z1a) * y2a)) / sum((1 - z1a))  # 統制群＝# 介入群＝z1aが0のデータ。\n",
    "n_ATE2 = n_ipwe21 - n_ipwe20\n",
    "\n",
    "#介入により、アプリ利用回数に変化があったと言えるか？\n",
    "# IPWによりアプリ利用ダミーへのATEを推定\n",
    "ipwe21 = sum((z1a * y2a) / ps1) / sum(z1a / ps1)  # Treated\n",
    "ipwe20 = sum(((1 - z1a) * y2a) / (1 - ps1)) / sum((1 - z1a) / (1 - ps1))  # Control\n",
    "ATE2 = ipwe21 - ipwe20\n",
    "\n",
    "print(n_ATE2)\n",
    "print(ATE2)"
   ]
  },
  {
   "cell_type": "code",
   "execution_count": 14,
   "metadata": {},
   "outputs": [
    {
     "name": "stdout",
     "output_type": "stream",
     "text": [
      "-629.6405765396544\n",
      "934.4221365398948\n"
     ]
    }
   ],
   "source": [
    "#傾向スコアを加味せず、単純に効果をひく。\n",
    "n_ipwe31 = sum((z1a * y3a)) / sum(z1a )  # 介入群＝z1aが１のデータ。\n",
    "n_ipwe30 = sum(((1 - z1a) * y3a)) / sum((1 - z1a))  # 統制群＝# 介入群＝z1aが0のデータ。\n",
    "n_ATE3 = n_ipwe31 - n_ipwe30\n",
    "\n",
    "#介入により、アプリ利用時間に変化があったと言えるか？\n",
    "# IPWによりアプリ利用ダミーへのATEを推定\n",
    "ipwe31 = sum((z1a * y3a) / ps1) / sum(z1a / ps1)  # Treated\n",
    "ipwe30 = sum(((1 - z1a) * y3a) / (1 - ps1)) / sum((1 - z1a) / (1 - ps1))  # Control\n",
    "ATE3 = ipwe31 - ipwe30\n",
    "\n",
    "print(n_ATE3)\n",
    "print(ATE3)"
   ]
  },
  {
   "cell_type": "markdown",
   "metadata": {},
   "source": [
    "# UpliftModeling(傾向スコアの補正無し)\n",
    "### https://qiita.com/0NE_shoT_/items/7b91474430c1f190c470\n",
    "### https://qiita.com/usaito/items/f713d93732db82696a76"
   ]
  },
  {
   "cell_type": "code",
   "execution_count": 17,
   "metadata": {},
   "outputs": [],
   "source": [
    "# 説明変数と目的変数を指定\n",
    "cols = [\"child_dummy\", \"area_kanto\", \"area_tokai\", \"area_keihanshin\",\n",
    "        \"T\", \"F1\", \"F2\", \"F3\", \"M1\", \"M2\"]\n",
    "\n",
    "X = data_df[cols]\n",
    "y = pd.DataFrame(data_df.gamesecond)\n",
    "\n",
    "# CMありをtreatment, CMなしをcontrolとする\n",
    "treat = (data_df.cm_dummy == 1).tolist()"
   ]
  },
  {
   "cell_type": "code",
   "execution_count": 42,
   "metadata": {},
   "outputs": [],
   "source": [
    "def b_i(boo):\n",
    "    if boo == True:\n",
    "       return 1\n",
    "    else:\n",
    "       return  0\n",
    "\n",
    "a = [b_i(boo) for boo in treat ]"
   ]
  },
  {
   "cell_type": "code",
   "execution_count": 43,
   "metadata": {},
   "outputs": [
    {
     "data": {
      "text/plain": [
       "<matplotlib.axes._subplots.AxesSubplot at 0x22a36a76550>"
      ]
     },
     "execution_count": 43,
     "metadata": {},
     "output_type": "execute_result"
    },
    {
     "data": {
      "image/png": "[encoded data removed]",
      "text/plain": [
       "<Figure size 432x288 with 1 Axes>"
      ]
     },
     "metadata": {
      "needs_background": "light"
     },
     "output_type": "display_data"
    }
   ],
   "source": [
    "sns.distplot(a)"
   ]
  },
  {
   "cell_type": "code",
   "execution_count": 61,
   "metadata": {},
   "outputs": [],
   "source": [
    "# train, test半分ずつに分ける\n",
    "y_train, y_test, train_treat, test_treat, X_train, X_test = train_test_split(y.values, treat, X, test_size=0.5, random_state=2)\n",
    "\n",
    "# indexをリセット\n",
    "X_train = X_train.reset_index(drop=True)\n",
    "X_test = X_test.reset_index(drop=True)\n",
    "\n",
    "# Separate Model Approach\n",
    "# 学習用に用いるデータを生成\n",
    "num = len(y_train)\n",
    "treat_y = np.reshape(np.array([y_train[i] for i in range(num) if train_treat[i] is True]), -1)\n",
    "control_y = np.reshape(np.array([y_train[i] for i in range(num) if train_treat[i] is False]), -1)\n",
    "treat_X = pd.DataFrame([X_train.loc[i] for i in range(num) if train_treat[i] is True])\n",
    "control_X = pd.DataFrame([X_train.loc[i] for i in range(num) if train_treat[i] is False])"
   ]
  },
  {
   "cell_type": "code",
   "execution_count": 62,
   "metadata": {},
   "outputs": [],
   "source": [
    "from sklearn.model_selection import GridSearchCV, train_test_split\n",
    "from sklearn.ensemble import RandomForestRegressor\n",
    "\n",
    "# ランダムフォレスト回帰を用いる\n",
    "params_rf = {\"max_depth\": [10, 50, 100]}\n",
    "gs_rf_treat = GridSearchCV(RandomForestRegressor(n_estimators=500),\n",
    "                           param_grid=params_rf, cv=5)\n",
    "gs_rf_control = GridSearchCV(RandomForestRegressor(n_estimators=500),\n",
    "                             param_grid=params_rf, cv=5)\n",
    "\n",
    "# 介入群と非介入群それぞれでパラメータチューニング及びスマホアプリ利用時間を予測するモデルを構築\n",
    "gs_rf_treat.fit(treat_X, treat_y)\n",
    "gs_rf_control.fit(control_X, control_y)\n",
    "\n",
    "# uplift-scoreの算出\n",
    "# CMを見た場合のアプリ利用時間\n",
    "pred_treat = gs_rf_treat.predict(X_test)\n",
    "\n",
    "# CMを見なかった場合のアプリ利用時間\n",
    "pred_control = gs_rf_control.predict(X_test)\n",
    "\n",
    "# 今回は、(CMを見た場合のアプリ利用時間) - (CMを見なかった場合のアプリ利用時間) をuplift_scoreとする。\n",
    "uplift_score = pred_treat - pred_control"
   ]
  },
  {
   "cell_type": "code",
   "execution_count": 64,
   "metadata": {},
   "outputs": [
    {
     "data": {
      "text/plain": [
       "<matplotlib.axes._subplots.AxesSubplot at 0x22a3b57fe10>"
      ]
     },
     "execution_count": 64,
     "metadata": {},
     "output_type": "execute_result"
    },
    {
     "data": {
      "image/png": "[encoded data removed]",
      "text/plain": [
       "<Figure size 432x288 with 1 Axes>"
      ]
     },
     "metadata": {
      "needs_background": "light"
     },
     "output_type": "display_data"
    }
   ],
   "source": [
    "sns.distplot(uplift_score)"
   ]
  },
  {
   "cell_type": "code",
   "execution_count": null,
   "metadata": {},
   "outputs": [],
   "source": [
    "#pd.concat([df1, df2])"
   ]
  },
  {
   "cell_type": "code",
   "execution_count": 99,
   "metadata": {},
   "outputs": [],
   "source": [
    "y_test_df =  pd.DataFrame(data=y_test)\n",
    "test_treat_df = pd.DataFrame(data=test_treat)\n",
    "uplift_score_df = pd.DataFrame(data=uplift_score)"
   ]
  },
  {
   "cell_type": "code",
   "execution_count": 103,
   "metadata": {},
   "outputs": [],
   "source": [
    "result = pd.concat([y_test_df, test_treat_df,uplift_score_df],axis=1)"
   ]
  },
  {
   "cell_type": "code",
   "execution_count": 105,
   "metadata": {},
   "outputs": [],
   "source": [
    "result.columns = ['cv_flg', 'treat_flg', 'uplift_score']"
   ]
  },
  {
   "cell_type": "code",
   "execution_count": 107,
   "metadata": {},
   "outputs": [],
   "source": [
    "result.loc[result['treat_flg']== True, 'treat_flg'] = 1\n",
    "result.loc[result['treat_flg']== False, 'treat_flg'] = 0"
   ]
  },
  {
   "cell_type": "code",
   "execution_count": 108,
   "metadata": {},
   "outputs": [
    {
     "data": {
      "text/html": [
       "<div>\n",
       "<style scoped>\n",
       "    .dataframe tbody tr th:only-of-type {\n",
       "        vertical-align: middle;\n",
       "    }\n",
       "\n",
       "    .dataframe tbody tr th {\n",
       "        vertical-align: top;\n",
       "    }\n",
       "\n",
       "    .dataframe thead th {\n",
       "        text-align: right;\n",
       "    }\n",
       "</style>\n",
       "<table border=\"1\" class=\"dataframe\">\n",
       "  <thead>\n",
       "    <tr style=\"text-align: right;\">\n",
       "      <th></th>\n",
       "      <th>cv_flg</th>\n",
       "      <th>treat_flg</th>\n",
       "      <th>uplift_score</th>\n",
       "    </tr>\n",
       "  </thead>\n",
       "  <tbody>\n",
       "    <tr>\n",
       "      <th>0</th>\n",
       "      <td>0</td>\n",
       "      <td>1</td>\n",
       "      <td>-7554.605833</td>\n",
       "    </tr>\n",
       "    <tr>\n",
       "      <th>1</th>\n",
       "      <td>0</td>\n",
       "      <td>0</td>\n",
       "      <td>70.426762</td>\n",
       "    </tr>\n",
       "    <tr>\n",
       "      <th>2</th>\n",
       "      <td>0</td>\n",
       "      <td>0</td>\n",
       "      <td>-3724.965115</td>\n",
       "    </tr>\n",
       "    <tr>\n",
       "      <th>3</th>\n",
       "      <td>0</td>\n",
       "      <td>0</td>\n",
       "      <td>-2931.596362</td>\n",
       "    </tr>\n",
       "    <tr>\n",
       "      <th>4</th>\n",
       "      <td>0</td>\n",
       "      <td>0</td>\n",
       "      <td>3790.316774</td>\n",
       "    </tr>\n",
       "  </tbody>\n",
       "</table>\n",
       "</div>"
      ],
      "text/plain": [
       "   cv_flg treat_flg  uplift_score\n",
       "0       0         1  -7554.605833\n",
       "1       0         0     70.426762\n",
       "2       0         0  -3724.965115\n",
       "3       0         0  -2931.596362\n",
       "4       0         0   3790.316774"
      ]
     },
     "execution_count": 108,
     "metadata": {},
     "output_type": "execute_result"
    }
   ],
   "source": [
    "result[:5]"
   ]
  },
  {
   "cell_type": "code",
   "execution_count": 111,
   "metadata": {},
   "outputs": [
    {
     "data": {
      "text/html": [
       "<div>\n",
       "<style scoped>\n",
       "    .dataframe tbody tr th:only-of-type {\n",
       "        vertical-align: middle;\n",
       "    }\n",
       "\n",
       "    .dataframe tbody tr th {\n",
       "        vertical-align: top;\n",
       "    }\n",
       "\n",
       "    .dataframe thead th {\n",
       "        text-align: right;\n",
       "    }\n",
       "</style>\n",
       "<table border=\"1\" class=\"dataframe\">\n",
       "  <thead>\n",
       "    <tr style=\"text-align: right;\">\n",
       "      <th></th>\n",
       "      <th>cv_flg</th>\n",
       "      <th>treat_flg</th>\n",
       "      <th>uplift_score</th>\n",
       "      <th>treat_num_cumsum</th>\n",
       "      <th>control_num_cumsum</th>\n",
       "      <th>treat_cv_cumsum</th>\n",
       "      <th>control_cv_cumsum</th>\n",
       "    </tr>\n",
       "  </thead>\n",
       "  <tbody>\n",
       "    <tr>\n",
       "      <th>0</th>\n",
       "      <td>0</td>\n",
       "      <td>0</td>\n",
       "      <td>21760.615164</td>\n",
       "      <td>0</td>\n",
       "      <td>1</td>\n",
       "      <td>0</td>\n",
       "      <td>0</td>\n",
       "    </tr>\n",
       "    <tr>\n",
       "      <th>1</th>\n",
       "      <td>0</td>\n",
       "      <td>0</td>\n",
       "      <td>21760.615164</td>\n",
       "      <td>0</td>\n",
       "      <td>2</td>\n",
       "      <td>0</td>\n",
       "      <td>0</td>\n",
       "    </tr>\n",
       "    <tr>\n",
       "      <th>2</th>\n",
       "      <td>0</td>\n",
       "      <td>0</td>\n",
       "      <td>21760.615164</td>\n",
       "      <td>0</td>\n",
       "      <td>3</td>\n",
       "      <td>0</td>\n",
       "      <td>0</td>\n",
       "    </tr>\n",
       "    <tr>\n",
       "      <th>3</th>\n",
       "      <td>0</td>\n",
       "      <td>0</td>\n",
       "      <td>21760.615164</td>\n",
       "      <td>0</td>\n",
       "      <td>4</td>\n",
       "      <td>0</td>\n",
       "      <td>0</td>\n",
       "    </tr>\n",
       "    <tr>\n",
       "      <th>4</th>\n",
       "      <td>0</td>\n",
       "      <td>0</td>\n",
       "      <td>21760.615164</td>\n",
       "      <td>0</td>\n",
       "      <td>5</td>\n",
       "      <td>0</td>\n",
       "      <td>0</td>\n",
       "    </tr>\n",
       "    <tr>\n",
       "      <th>...</th>\n",
       "      <td>...</td>\n",
       "      <td>...</td>\n",
       "      <td>...</td>\n",
       "      <td>...</td>\n",
       "      <td>...</td>\n",
       "      <td>...</td>\n",
       "      <td>...</td>\n",
       "    </tr>\n",
       "    <tr>\n",
       "      <th>4995</th>\n",
       "      <td>0</td>\n",
       "      <td>1</td>\n",
       "      <td>-64039.282844</td>\n",
       "      <td>2052</td>\n",
       "      <td>2944</td>\n",
       "      <td>5432175</td>\n",
       "      <td>9223314</td>\n",
       "    </tr>\n",
       "    <tr>\n",
       "      <th>4996</th>\n",
       "      <td>0</td>\n",
       "      <td>1</td>\n",
       "      <td>-64039.282844</td>\n",
       "      <td>2053</td>\n",
       "      <td>2944</td>\n",
       "      <td>5432175</td>\n",
       "      <td>9223314</td>\n",
       "    </tr>\n",
       "    <tr>\n",
       "      <th>4997</th>\n",
       "      <td>97226</td>\n",
       "      <td>0</td>\n",
       "      <td>-64039.282844</td>\n",
       "      <td>2053</td>\n",
       "      <td>2945</td>\n",
       "      <td>5432175</td>\n",
       "      <td>9320540</td>\n",
       "    </tr>\n",
       "    <tr>\n",
       "      <th>4998</th>\n",
       "      <td>0</td>\n",
       "      <td>1</td>\n",
       "      <td>-64039.282844</td>\n",
       "      <td>2054</td>\n",
       "      <td>2945</td>\n",
       "      <td>5432175</td>\n",
       "      <td>9320540</td>\n",
       "    </tr>\n",
       "    <tr>\n",
       "      <th>4999</th>\n",
       "      <td>0</td>\n",
       "      <td>1</td>\n",
       "      <td>-64039.282844</td>\n",
       "      <td>2055</td>\n",
       "      <td>2945</td>\n",
       "      <td>5432175</td>\n",
       "      <td>9320540</td>\n",
       "    </tr>\n",
       "  </tbody>\n",
       "</table>\n",
       "<p>5000 rows × 7 columns</p>\n",
       "</div>"
      ],
      "text/plain": [
       "      cv_flg treat_flg  uplift_score treat_num_cumsum control_num_cumsum  \\\n",
       "0          0         0  21760.615164                0                  1   \n",
       "1          0         0  21760.615164                0                  2   \n",
       "2          0         0  21760.615164                0                  3   \n",
       "3          0         0  21760.615164                0                  4   \n",
       "4          0         0  21760.615164                0                  5   \n",
       "...      ...       ...           ...              ...                ...   \n",
       "4995       0         1 -64039.282844             2052               2944   \n",
       "4996       0         1 -64039.282844             2053               2944   \n",
       "4997   97226         0 -64039.282844             2053               2945   \n",
       "4998       0         1 -64039.282844             2054               2945   \n",
       "4999       0         1 -64039.282844             2055               2945   \n",
       "\n",
       "     treat_cv_cumsum control_cv_cumsum  \n",
       "0                  0                 0  \n",
       "1                  0                 0  \n",
       "2                  0                 0  \n",
       "3                  0                 0  \n",
       "4                  0                 0  \n",
       "...              ...               ...  \n",
       "4995         5432175           9223314  \n",
       "4996         5432175           9223314  \n",
       "4997         5432175           9320540  \n",
       "4998         5432175           9320540  \n",
       "4999         5432175           9320540  \n",
       "\n",
       "[5000 rows x 7 columns]"
      ]
     },
     "execution_count": 111,
     "metadata": {},
     "output_type": "execute_result"
    }
   ],
   "source": [
    "result"
   ]
  },
  {
   "cell_type": "code",
   "execution_count": 117,
   "metadata": {},
   "outputs": [
    {
     "name": "stdout",
     "output_type": "stream",
     "text": [
      "AUUC = 2235867.05\n"
     ]
    }
   ],
   "source": [
    "# uplift score が大きい順に検証データを並び替え\n",
    "result = result.sort_values(by='uplift_score', ascending=False).reset_index(drop=True)\n",
    "\n",
    "# lift の算出\n",
    "result['treat_num_cumsum'] = result['treat_flg'].cumsum()\n",
    "result['control_num_cumsum'] = (1 - result['treat_flg']).cumsum()\n",
    "result['treat_cv_cumsum'] = (result['treat_flg'] * result['cv_flg']).cumsum()\n",
    "result['control_cv_cumsum'] = ((1 - result['treat_flg']) * result['cv_flg']).cumsum()\n",
    "result['treat_cvr'] = (result['treat_cv_cumsum'] / (result['treat_num_cumsum']+0.001)).fillna(0)\n",
    "result['control_cvr'] = (result['control_cv_cumsum'] / (result['control_num_cumsum']+0.001)).fillna(0)\n",
    "result['lift'] = (result['treat_cvr'] - result['control_cvr']) * result['treat_num_cumsum']\n",
    "result['base_line'] = result.index * result['lift'][len(result.index) - 1] / len(result.index)\n",
    "\n",
    "# AUUC の算出\n",
    "auuc = (result['lift'] - result['base_line']).sum() / len(result['lift'])\n",
    "print('AUUC = {:.2f}'.format(auuc))\n",
    "# 出力：=> AUUC = 37.70"
   ]
  },
  {
   "cell_type": "code",
   "execution_count": 118,
   "metadata": {},
   "outputs": [
    {
     "data": {
      "image/png": "[encoded data removed]",
      "text/plain": [
       "<Figure size 432x288 with 1 Axes>"
      ]
     },
     "metadata": {},
     "output_type": "display_data"
    }
   ],
   "source": [
    "import matplotlib.pyplot as plt\n",
    "result.plot(y=['lift', 'base_line'])\n",
    "plt.xlabel('uplift score rank')\n",
    "plt.ylabel('conversion lift')\n",
    "plt.show()"
   ]
  },
  {
   "cell_type": "code",
   "execution_count": 119,
   "metadata": {},
   "outputs": [
    {
     "name": "stdout",
     "output_type": "stream",
     "text": [
      "child_dummy / -2741.7337\n",
      "area_kanto / -4112.5285\n",
      "area_tokai / -4095.1288\n",
      "area_keihanshin / 2997.0794\n",
      "T / 6021.0708\n",
      "F1 / 461.2852\n",
      "F2 / 798.4251\n",
      "F3 / 1486.685\n",
      "M1 / -6875.9041\n",
      "M2 / 5183.7698\n"
     ]
    }
   ],
   "source": [
    "from sklearn.linear_model import LinearRegression\n",
    "\n",
    "### 正則化項なしの線形回帰\n",
    "lr = LinearRegression()\n",
    "lr.fit(X_test, uplift_score)\n",
    "for feature, coef in zip(X_train.columns, lr.coef_):\n",
    "    print(f\"{feature} / {round(coef, 4)}\")"
   ]
  },
  {
   "cell_type": "markdown",
   "metadata": {},
   "source": [
    "# UpliftModeling(傾向スコアの補正あり)"
   ]
  },
  {
   "cell_type": "code",
   "execution_count": 125,
   "metadata": {},
   "outputs": [],
   "source": [
    "# データの読み込み\n",
    "data_df = pd.read_csv('https://github.com/iwanami-datascience/vol3/raw/master/kato%26hoshino/q_data_x.csv')\n",
    "data_df.head()\n",
    "\n",
    "# 傾向スコアを求める\n",
    "# 説明変数\n",
    "cols_ = [\"age\", \"sex\", \"TVwatch_day\", \"marry_dummy\", \"child_dummy\", \"inc\", \"pmoney\",\n",
    "         \"area_kanto\", \"area_tokai\", \"area_keihanshin\",\n",
    "         \"job_dummy1\", \"job_dummy2\", \"job_dummy3\", \"job_dummy4\", \"job_dummy5\", \"job_dummy6\",\n",
    "         \"fam_str_dummy1\", \"fam_str_dummy2\", \"fam_str_dummy3\", \"fam_str_dummy4\"]\n",
    "\n",
    "X_ = data_df[cols_].copy()\n",
    "\n",
    "# 切片の導入\n",
    "X_.loc[:, \"Intercept\"] = 1\n",
    "\n",
    "# CM視聴有無ダミー\n",
    "z1 = data_df.cm_dummy\n",
    "\n",
    "from sklearn.linear_model import LogisticRegression\n",
    "#モデルの生成\n",
    "clf = LogisticRegression(C=10000)\n",
    "#学習\n",
    "clf.fit(X_,z1)\n",
    "#モデルに伴う生存率の予測値\n",
    "ps = clf.predict_proba(X_)\n",
    "\n",
    "#整形\n",
    "ps = pd.DataFrame(ps[:,1])"
   ]
  },
  {
   "cell_type": "code",
   "execution_count": 154,
   "metadata": {},
   "outputs": [],
   "source": [
    "# Propensity Scoreで補正された目的変数のカラムを作成\n",
    "data_df[\"ps\"] = ps\n",
    "data_df.loc[:, \"adj_gamesecond\"] = 0\n",
    "data_df.loc[data_df.cm_dummy == 1, \"adj_gamesecond\"] = data_df.loc[data_df.cm_dummy == 1, \"gamesecond\"] / data_df.loc[data_df.cm_dummy == 1, \"ps\"]\n",
    "data_df.loc[data_df.cm_dummy == 0, \"adj_gamesecond\"] = -data_df.loc[data_df.cm_dummy == 0, \"gamesecond\"] / (1 - data_df.loc[data_df.cm_dummy == 0, \"ps\"])\n",
    "adj_y = data_df[[\"gamesecond\", \"adj_gamesecond\"]]"
   ]
  },
  {
   "cell_type": "code",
   "execution_count": 160,
   "metadata": {},
   "outputs": [
    {
     "data": {
      "text/html": [
       "<div>\n",
       "<style scoped>\n",
       "    .dataframe tbody tr th:only-of-type {\n",
       "        vertical-align: middle;\n",
       "    }\n",
       "\n",
       "    .dataframe tbody tr th {\n",
       "        vertical-align: top;\n",
       "    }\n",
       "\n",
       "    .dataframe thead th {\n",
       "        text-align: right;\n",
       "    }\n",
       "</style>\n",
       "<table border=\"1\" class=\"dataframe\">\n",
       "  <thead>\n",
       "    <tr style=\"text-align: right;\">\n",
       "      <th></th>\n",
       "      <th>gamesecond</th>\n",
       "      <th>adj_gamesecond</th>\n",
       "    </tr>\n",
       "  </thead>\n",
       "  <tbody>\n",
       "    <tr>\n",
       "      <th>0</th>\n",
       "      <td>0</td>\n",
       "      <td>0.000000</td>\n",
       "    </tr>\n",
       "    <tr>\n",
       "      <th>1</th>\n",
       "      <td>0</td>\n",
       "      <td>0.000000</td>\n",
       "    </tr>\n",
       "    <tr>\n",
       "      <th>2</th>\n",
       "      <td>0</td>\n",
       "      <td>0.000000</td>\n",
       "    </tr>\n",
       "    <tr>\n",
       "      <th>3</th>\n",
       "      <td>0</td>\n",
       "      <td>0.000000</td>\n",
       "    </tr>\n",
       "    <tr>\n",
       "      <th>4</th>\n",
       "      <td>0</td>\n",
       "      <td>0.000000</td>\n",
       "    </tr>\n",
       "    <tr>\n",
       "      <th>...</th>\n",
       "      <td>...</td>\n",
       "      <td>...</td>\n",
       "    </tr>\n",
       "    <tr>\n",
       "      <th>9995</th>\n",
       "      <td>97226</td>\n",
       "      <td>-118964.034778</td>\n",
       "    </tr>\n",
       "    <tr>\n",
       "      <th>9996</th>\n",
       "      <td>97224</td>\n",
       "      <td>-118965.711129</td>\n",
       "    </tr>\n",
       "    <tr>\n",
       "      <th>9997</th>\n",
       "      <td>97227</td>\n",
       "      <td>-118968.091639</td>\n",
       "    </tr>\n",
       "    <tr>\n",
       "      <th>9998</th>\n",
       "      <td>97225</td>\n",
       "      <td>-118965.487092</td>\n",
       "    </tr>\n",
       "    <tr>\n",
       "      <th>9999</th>\n",
       "      <td>97225</td>\n",
       "      <td>-118964.094860</td>\n",
       "    </tr>\n",
       "  </tbody>\n",
       "</table>\n",
       "<p>10000 rows × 2 columns</p>\n",
       "</div>"
      ],
      "text/plain": [
       "      gamesecond  adj_gamesecond\n",
       "0              0        0.000000\n",
       "1              0        0.000000\n",
       "2              0        0.000000\n",
       "3              0        0.000000\n",
       "4              0        0.000000\n",
       "...          ...             ...\n",
       "9995       97226  -118964.034778\n",
       "9996       97224  -118965.711129\n",
       "9997       97227  -118968.091639\n",
       "9998       97225  -118965.487092\n",
       "9999       97225  -118964.094860\n",
       "\n",
       "[10000 rows x 2 columns]"
      ]
     },
     "execution_count": 160,
     "metadata": {},
     "output_type": "execute_result"
    }
   ],
   "source": [
    "adj_y"
   ]
  },
  {
   "cell_type": "code",
   "execution_count": 156,
   "metadata": {},
   "outputs": [],
   "source": [
    "# CMありをtreatment, CMなしをcontrolとする\n",
    "treat = (data_df.cm_dummy == 1).tolist()\n",
    "\n",
    "# train, test半分ずつに分ける\n",
    "adj_y_train, adj_y_test, train_treat, test_treat, X_train, X_test = train_test_split(adj_y, treat, X, test_size=0.5, random_state=2)\n",
    "\n",
    "# indexをリセット\n",
    "X_train = X_train.reset_index(drop=True)\n",
    "X_test = X_test.reset_index(drop=True)\n",
    "adj_y_train = adj_y_train.reset_index(drop=True)\n",
    "adj_y_test = adj_y_test.reset_index(drop=True)"
   ]
  },
  {
   "cell_type": "code",
   "execution_count": 157,
   "metadata": {},
   "outputs": [],
   "source": [
    "# ランダムフォレスト回帰を用いる\n",
    "params_rf = {\"max_depth\": [10, 50, 100]}\n",
    "gs_rf = GridSearchCV(RandomForestRegressor(n_estimators=500), param_grid=params_rf, cv=5)\n",
    "\n",
    "# パラメータチューニング及び補正スマホアプリ利用時間を予測するモデルを構築\n",
    "gs_rf.fit(X_train, adj_y_train.adj_gamesecond)\n",
    "\n",
    "# 補正uplift_scoreを求める\n",
    "adj_uplift_score = gs_rf.predict(X_test)"
   ]
  },
  {
   "cell_type": "code",
   "execution_count": 159,
   "metadata": {},
   "outputs": [
    {
     "data": {
      "text/plain": [
       "<matplotlib.axes._subplots.AxesSubplot at 0x22a3c671dd8>"
      ]
     },
     "execution_count": 159,
     "metadata": {},
     "output_type": "execute_result"
    },
    {
     "data": {
      "image/png": "[encoded data removed]",
      "text/plain": [
       "<Figure size 432x288 with 1 Axes>"
      ]
     },
     "metadata": {},
     "output_type": "display_data"
    }
   ],
   "source": [
    "sns.distplot(uplift_score)"
   ]
  },
  {
   "cell_type": "code",
   "execution_count": 162,
   "metadata": {},
   "outputs": [],
   "source": [
    "adj_y_test_df =  pd.DataFrame(data=adj_y_train.adj_gamesecond)\n",
    "test_treat_df = pd.DataFrame(data=test_treat)\n",
    "adj_uplift_score_df = pd.DataFrame(data=adj_uplift_score)"
   ]
  },
  {
   "cell_type": "code",
   "execution_count": 165,
   "metadata": {},
   "outputs": [],
   "source": [
    "adj_result = pd.concat([adj_y_test_df, test_treat_df,adj_uplift_score_df],axis=1)"
   ]
  },
  {
   "cell_type": "code",
   "execution_count": 166,
   "metadata": {},
   "outputs": [
    {
     "data": {
      "text/html": [
       "<div>\n",
       "<style scoped>\n",
       "    .dataframe tbody tr th:only-of-type {\n",
       "        vertical-align: middle;\n",
       "    }\n",
       "\n",
       "    .dataframe tbody tr th {\n",
       "        vertical-align: top;\n",
       "    }\n",
       "\n",
       "    .dataframe thead th {\n",
       "        text-align: right;\n",
       "    }\n",
       "</style>\n",
       "<table border=\"1\" class=\"dataframe\">\n",
       "  <thead>\n",
       "    <tr style=\"text-align: right;\">\n",
       "      <th></th>\n",
       "      <th>cv_flg</th>\n",
       "      <th>treat_flg</th>\n",
       "      <th>uplift_score</th>\n",
       "    </tr>\n",
       "  </thead>\n",
       "  <tbody>\n",
       "    <tr>\n",
       "      <th>0</th>\n",
       "      <td>0.0</td>\n",
       "      <td>0</td>\n",
       "      <td>-3525.642353</td>\n",
       "    </tr>\n",
       "    <tr>\n",
       "      <th>1</th>\n",
       "      <td>0.0</td>\n",
       "      <td>0</td>\n",
       "      <td>35.252147</td>\n",
       "    </tr>\n",
       "    <tr>\n",
       "      <th>2</th>\n",
       "      <td>0.0</td>\n",
       "      <td>0</td>\n",
       "      <td>-2311.330563</td>\n",
       "    </tr>\n",
       "    <tr>\n",
       "      <th>3</th>\n",
       "      <td>0.0</td>\n",
       "      <td>0</td>\n",
       "      <td>-3217.164775</td>\n",
       "    </tr>\n",
       "    <tr>\n",
       "      <th>4</th>\n",
       "      <td>0.0</td>\n",
       "      <td>0</td>\n",
       "      <td>7569.139191</td>\n",
       "    </tr>\n",
       "  </tbody>\n",
       "</table>\n",
       "</div>"
      ],
      "text/plain": [
       "   cv_flg treat_flg  uplift_score\n",
       "0     0.0         0  -3525.642353\n",
       "1     0.0         0     35.252147\n",
       "2     0.0         0  -2311.330563\n",
       "3     0.0         0  -3217.164775\n",
       "4     0.0         0   7569.139191"
      ]
     },
     "execution_count": 166,
     "metadata": {},
     "output_type": "execute_result"
    }
   ],
   "source": [
    "adj_result.columns = ['cv_flg', 'treat_flg', 'uplift_score']\n",
    "adj_result.loc[result['treat_flg']== True, 'treat_flg'] = 1\n",
    "adj_result.loc[result['treat_flg']== False, 'treat_flg'] = 0\n",
    "adj_result[:5]"
   ]
  },
  {
   "cell_type": "code",
   "execution_count": 168,
   "metadata": {},
   "outputs": [
    {
     "name": "stdout",
     "output_type": "stream",
     "text": [
      "AUUC = -578206.46\n"
     ]
    }
   ],
   "source": [
    "# uplift score が大きい順に検証データを並び替え\n",
    "adj_result = adj_result.sort_values(by='uplift_score', ascending=False).reset_index(drop=True)\n",
    "\n",
    "# lift の算出\n",
    "adj_result['treat_num_cumsum'] = adj_result['treat_flg'].cumsum()\n",
    "adj_result['control_num_cumsum'] = (1 - adj_result['treat_flg']).cumsum()\n",
    "adj_result['treat_cv_cumsum'] = (adj_result['treat_flg'] * adj_result['cv_flg']).cumsum()\n",
    "adj_result['control_cv_cumsum'] = ((1 - adj_result['treat_flg']) * adj_result['cv_flg']).cumsum()\n",
    "adj_result['treat_cvr'] = (adj_result['treat_cv_cumsum'] / (adj_result['treat_num_cumsum']+0.1)).fillna(0)\n",
    "adj_result['control_cvr'] = (adj_result['control_cv_cumsum'] / (adj_result['control_num_cumsum']+0.1)).fillna(0)\n",
    "adj_result['lift'] = (adj_result['treat_cvr'] - adj_result['control_cvr']) * adj_result['treat_num_cumsum']\n",
    "adj_result['base_line'] = adj_result.index * adj_result['lift'][len(adj_result.index) - 1] / len(adj_result.index)\n",
    "\n",
    "# AUUC の算出\n",
    "adj_auuc = (adj_result['lift'] - adj_result['base_line']).sum() / len(adj_result['lift'])\n",
    "print('AUUC = {:.2f}'.format(adj_auuc))\n",
    "# 出力：=> AUUC = 37.70"
   ]
  },
  {
   "cell_type": "code",
   "execution_count": 169,
   "metadata": {},
   "outputs": [
    {
     "data": {
      "image/png": "[encoded data removed]",
      "text/plain": [
       "<Figure size 432x288 with 1 Axes>"
      ]
     },
     "metadata": {},
     "output_type": "display_data"
    }
   ],
   "source": [
    "import matplotlib.pyplot as plt\n",
    "adj_result.plot(y=['lift', 'base_line'])\n",
    "plt.xlabel('uplift score rank')\n",
    "plt.ylabel('conversion lift')\n",
    "plt.show()"
   ]
  },
  {
   "cell_type": "code",
   "execution_count": null,
   "metadata": {},
   "outputs": [],
   "source": []
  }
 ],
 "metadata": {
  "kernelspec": {
   "display_name": "Python 3",
   "language": "python",
   "name": "python3"
  },
  "language_info": {
   "codemirror_mode": {
    "name": "ipython",
    "version": 3
   },
   "file_extension": ".py",
   "mimetype": "text/x-python",
   "name": "python",
   "nbconvert_exporter": "python",
   "pygments_lexer": "ipython3",
   "version": "3.7.3"
  }
 },
 "nbformat": 4,
 "nbformat_minor": 2
}
