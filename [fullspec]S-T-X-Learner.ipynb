{
 "cells": [
  {
   "cell_type": "markdown",
   "metadata": {},
   "source": [
    "# Causal Inference full spec(因果推論フルスペック)\n",
    "## we can do Causal Inference using this python program"
   ]
  },
  {
   "cell_type": "markdown",
   "metadata": {},
   "source": [
    "# ＊-Learner  \n",
    "### https://econml.azurewebsites.net/_autosummary/econml.metalearners.html"
   ]
  },
  {
   "cell_type": "code",
   "execution_count": 92,
   "metadata": {},
   "outputs": [],
   "source": [
    "from econml.metalearners import TLearner, SLearner, XLearner, DomainAdaptationLearner"
   ]
  },
  {
   "cell_type": "code",
   "execution_count": 102,
   "metadata": {},
   "outputs": [],
   "source": [
    "from econml.data.dgps import ihdp_surface_B"
   ]
  },
  {
   "cell_type": "code",
   "execution_count": 120,
   "metadata": {},
   "outputs": [
    {
     "data": {
      "text/plain": [
       "array([19.04345696, 12.90747173,  7.70742717,  5.33921416, 12.58384973,\n",
       "        8.45908469, 28.23000283, 17.52877756, 23.82920307, 11.34384365,\n",
       "       14.55804554, 22.86323858,  8.92981458, 24.44652012,  7.71033621,\n",
       "        8.07500634, 16.23425205,  9.81181585, 18.58097208, 23.51078831,\n",
       "       24.4998885 , 16.305729  , 18.51951057, 17.2354491 , 11.00013502,\n",
       "       13.29205721, 18.7170301 , 27.77130308, 23.2716476 ,  9.06393264,\n",
       "       15.9585015 ,  8.40181274, 18.58719163, 10.43341531, 28.93259944,\n",
       "       15.19943296,  7.37764642, 15.92563771, 23.60346643, 20.03049795,\n",
       "        8.94053424, 18.33658115, 18.50566819, 17.97768023, 19.09269098,\n",
       "       19.31012094, 26.001979  ,  8.07591931, 19.01885494, 19.03498535,\n",
       "       20.52705092, 29.31236398, 13.21494153, 20.13148834, 14.18369041,\n",
       "       12.27911607, 29.36968748, 15.68404125, 20.20288742, 16.51428151,\n",
       "        9.88568148,  7.05623408,  6.92601388, 19.76048708, 12.43881349,\n",
       "        8.56094816, 18.63985792, 20.55836415, 11.01296134, 11.43005673,\n",
       "       15.55850656, 21.53180261, 18.59241995, 26.28764998, 19.22576392,\n",
       "       18.83722099, 18.93523628, 22.03159027, 18.62276774, 20.10484983,\n",
       "       29.37407508, 11.27779291, 31.81090197, 35.62036814, 17.86202655,\n",
       "       20.74017648,  4.9407504 , 17.52931745, 12.75635908, 25.78683317,\n",
       "       23.66161522, 16.8246305 , 32.41888829, 16.32003437, 10.67515332,\n",
       "       13.1209032 ,  7.60293328, 10.07121734, 11.64454079, 21.20811298,\n",
       "        8.64944234, 15.33842974,  8.03640331, 13.73140158,  8.07682031,\n",
       "       10.8412423 ,  7.28512049,  6.08008372, 17.93220207, 18.80533875,\n",
       "       25.58094318,  7.16948018, 19.37216805, 11.03432019, 14.15751658,\n",
       "       18.10191534,  9.19643518, 13.28473234,  4.87236636,  9.40164493,\n",
       "        8.01565571,  7.07072118,  6.10331521, 10.5977251 , 11.3756718 ,\n",
       "        9.40101681,  7.7105905 , 19.34730121, 14.66842517,  9.06385066,\n",
       "        8.9308376 , 10.99091963,  9.67619881,  9.22936149, 10.34764196,\n",
       "       15.97477467,  9.95255314,  5.65386937,  6.12000406, 16.56697425,\n",
       "        7.33618059,  5.28226563, 15.57833391, 15.71224762, 12.87003245,\n",
       "        8.61181205,  5.89557341,  4.26375111, 16.67663278, 12.56980834,\n",
       "        9.40624815,  8.71413612,  8.7166658 ,  9.23839743, 17.08927844,\n",
       "        9.73345103,  4.55681189, 11.23435951, 12.45700663, 11.81389951,\n",
       "        9.00327703,  5.89351439,  7.91132436,  6.15052452,  6.31210685,\n",
       "        8.54500787, 19.10608157, 19.66280665, 17.94891089,  9.09027124,\n",
       "       14.54275712, 10.23075439, 14.04878647, 12.78682799,  6.901345  ,\n",
       "       16.70473406,  8.33303279, 13.00576855,  8.3444805 , 12.07638788,\n",
       "       13.34509261, 17.09543195, 15.70853318,  7.16319126,  7.33129777,\n",
       "       14.53505421, 14.73286389, 11.02372337, 19.13997248, 14.4322159 ,\n",
       "       16.03657834, 17.9312904 , 13.10848676, 11.00340394,  8.70532221,\n",
       "       10.41586215,  9.14603576, 12.76695362,  4.93453243,  7.50317951,\n",
       "        6.87325419, 12.36575746, 19.89927147,  7.67093651, 27.82497609,\n",
       "       17.98367526,  9.9797788 ,  8.9419066 , 17.77893726, 18.45679852,\n",
       "       18.57648684, 27.01397253,  9.39713888, 17.04242549, 20.79557492,\n",
       "       18.86499851, 14.76365323, 20.31416783,  7.70405638, 10.90261905,\n",
       "       34.62342433,  7.8193281 , 30.77853986, 18.75694687, 13.7370741 ,\n",
       "       16.95961696, 27.69470379, 26.39606474, 29.13643351, 14.74034936,\n",
       "       24.35953915,  8.87650699, 14.18185812, 13.42334708,  8.15519796,\n",
       "       14.75689237,  9.75608673, 15.18588392, 18.35345085, 28.3391584 ,\n",
       "       12.82140089, 11.8184578 ,  7.30034016, 14.56177046, 30.43600727,\n",
       "       15.921558  ,  8.00085492, 31.28825971, 13.28008998, 21.19265898,\n",
       "       17.18294412,  7.78485893,  7.01064846, 18.96421378, 10.21982862,\n",
       "       13.41513556,  9.81147037, 18.60126784,  6.66261556, 23.70393654,\n",
       "       15.03418646, 11.06562098, 18.40935034, 22.62622196, 18.8052083 ,\n",
       "       17.57250331, 10.33213648, 22.34235945, 24.5998704 ,  9.65131242,\n",
       "       18.91401352, 15.16132663, 13.62331504, 11.44911998, 11.90438842,\n",
       "       10.84228274, 16.59340874, 19.04826278, 22.94616247, 13.5011197 ,\n",
       "       17.29030532, 20.09507294, 17.74985737, 23.37009382, 21.59037786,\n",
       "       19.29067278, 16.06080138, 21.50458796, 18.60533205, 21.13546794,\n",
       "       19.86338106, 20.9394477 , 22.58879939, 20.30879792, 22.15917169,\n",
       "       20.26545237, 28.38124985, 14.36811865, 18.16154896, 10.18260753,\n",
       "        9.90037841, 17.98454833, 25.2953342 , 18.67303648, 12.54656858,\n",
       "       11.96823231,  9.03136664, 29.22365881,  8.20514589, 18.02390718,\n",
       "        6.31827194, 11.52345425, 15.02996234, 15.11818168, 13.92418067,\n",
       "        9.55110754, 18.5007148 , 20.86082283, 10.12526562,  9.42447788,\n",
       "        9.12461442, 14.33473714,  6.46380618,  4.32422393,  5.1836098 ,\n",
       "       22.74563866,  5.42479241, 12.23598011, 17.58775403, 14.07478137,\n",
       "       10.65862332,  7.11139287,  9.15786861, 12.51801253, 10.42253276,\n",
       "        7.51673828,  3.83267742,  6.20701596, 10.54433505, 10.05393642,\n",
       "       12.01987419,  6.02607169, 20.89515876, 19.8819535 , 19.69434607,\n",
       "       10.47892204,  7.56301945,  9.47705411,  8.79473409, 10.17927241,\n",
       "        7.10576583,  6.2667002 , 17.50733498,  9.50757254,  7.13482   ,\n",
       "        6.6587012 ,  9.42336103, 12.65609357,  9.79957678,  7.86802755,\n",
       "       16.07591953,  6.08631317,  7.12359851,  9.78356541,  9.61382714,\n",
       "       11.14335483,  8.15436563,  5.95448783,  6.87106405, 11.84456645,\n",
       "        8.70103672,  8.0133455 ,  7.74560137,  6.68059878, 16.0739825 ,\n",
       "       23.04877939, 11.56762805,  6.5637997 , 10.08746796, 11.19618926,\n",
       "        7.78494192, 11.08565288, 10.34733274, 29.72601067, 32.974278  ,\n",
       "        9.2029793 ,  9.68861073, 19.3988298 , 21.78882358,  9.85061355,\n",
       "       10.80918533,  8.63981906, 13.15123756,  9.66485542,  8.12467479,\n",
       "       33.98870614, 10.61081118, 12.88768229, 13.51851216, 16.17346864,\n",
       "       22.77377585,  9.72793079,  6.55795868, 11.07255771, 10.23229853,\n",
       "       13.61136015,  8.76479912, 22.4611508 , 26.72519082, 19.82767462,\n",
       "        9.6322648 , 45.57307917, 13.81052351, 10.02416207, 15.42158787,\n",
       "       13.12863191,  7.85345899, 19.00745723, 21.44917754,  6.49989908,\n",
       "       11.90106925, 19.56611562,  8.69930036,  8.72256711,  7.44149288,\n",
       "        7.41097439, 11.00505661, 16.88371308, 25.33791493, 14.59695744,\n",
       "       16.25337522,  8.08725244, 18.46781094,  8.06760119, 34.89621513,\n",
       "       12.12735777, 11.24991664, 11.66921539, 10.91700054, 15.86552082,\n",
       "       15.7936078 , 17.587687  , 10.52132285, 10.80560939, 18.61497871,\n",
       "        6.04473611, 29.78519643, 13.59070776, 13.87416068, 18.78002857,\n",
       "       14.78752199, 20.34556859,  6.79592944, 12.40530607, 25.09891693,\n",
       "       14.14162866, 18.51841724, 19.46320689, 13.80255738, 23.36282708,\n",
       "       23.27384743, 10.46594467, 20.32596036, 25.53332265, 19.59933668,\n",
       "       26.48260624, 18.9069842 , 18.60363092, 31.15680604, 20.35505074,\n",
       "       18.22477071, 12.12347953, 11.87609495, 10.61779589,  8.58465428,\n",
       "       19.2379654 , 16.59144576, 12.4367151 , 20.91218366, 13.203265  ,\n",
       "       12.18527833, 12.71206908, 12.01006192,  9.78362242, 10.73326737,\n",
       "       14.93546183,  5.54078656,  9.46979666, 16.68904152, 17.05163739,\n",
       "       10.54380437, 11.03655495, 25.12052011, 14.38167001, 13.24969797,\n",
       "       10.1161664 , 10.82017962, 19.9271147 , 13.06309548, 12.7040865 ,\n",
       "        9.18422862, 14.44009969, 12.59747887, 17.45356055,  7.673456  ,\n",
       "        6.22176046, 11.32973975, 12.57481126, 13.87899675,  8.74196721,\n",
       "       13.52357543,  9.92250165,  9.05323063, 19.5976505 , 10.24180018,\n",
       "        6.5588916 ,  8.21890745, 39.49529078, 15.70877483, 11.57480338,\n",
       "        7.37529981, 18.26098797, 11.08764764,  8.62342673,  8.54983497,\n",
       "       11.14313726, 14.26817194,  6.65254339,  7.02119155, 11.14302826,\n",
       "        8.67830032,  8.90689487, 45.26849681, 18.88817715, 21.71126719,\n",
       "       18.04281698, 19.10142524, 19.19045356, 40.68284034, 12.40610215,\n",
       "       17.89071983, 12.85781283,  5.6621317 , 14.0616178 , 18.56052879,\n",
       "       19.98702178, 15.51606332, 14.15258492,  8.10853781,  8.32953267,\n",
       "       11.98571187, 16.41634532,  6.08230496, 14.94568487, 14.90856944,\n",
       "        8.89228884,  8.89048171, 17.55514093, 15.1208033 , 20.26543476,\n",
       "       15.39834181, 24.65892067, 20.26863735, 13.59384921, 11.70175224,\n",
       "       32.11151267, 12.71010949, 35.58362305, 32.17831993, 19.85134974,\n",
       "       12.34799971, 13.79598146,  4.94848336, 13.07240312, 16.92097535,\n",
       "       18.13217749, 16.94384858,  9.10341024, 16.40545593, 18.01155115,\n",
       "        9.4487129 , 18.80295442,  6.23183342, 18.11047104, 18.97729046,\n",
       "       18.445383  , 20.25687021, 10.33821522,  9.67215175, 15.22717794,\n",
       "       14.62335737, 19.49600365, 17.46907026, 13.05457474,  3.92375234,\n",
       "        9.54927332, 13.17343393, 20.67157693, 21.31978777, 16.88977482,\n",
       "       20.35456358, 19.63341951, 20.64874647, 10.349002  , 11.29526554,\n",
       "        5.98693462, 18.15072899,  6.07996934, 10.82343169, 18.06554542,\n",
       "       12.0164461 ,  6.9600334 , 13.03303749, 16.80034786, 16.6602277 ,\n",
       "       17.48068787,  8.20415852, 23.79826315, 10.24579784,  8.56426847,\n",
       "       20.36498069,  9.83449949, 13.62922341, 11.23030688, 19.96825731,\n",
       "       14.25737916, 10.50003676, 19.83879795, 19.09422355,  7.51233553,\n",
       "       18.59154328,  8.65764208, 16.68729882, 13.02761753, 11.58520929,\n",
       "        7.42492209, 13.07863866, 11.60496492, 17.90976413,  9.64812221,\n",
       "       17.61643565, 19.16274909, 18.56362003, 17.05382869, 12.44360167,\n",
       "       18.19259005,  5.76959082,  6.86719583, 18.13348646, 18.93260936,\n",
       "       19.25354074, 17.51283172, 16.90785007,  6.5141778 ,  7.47697867,\n",
       "        6.08479947, 22.3359248 , 20.84487474,  8.49662634,  5.31658119,\n",
       "       21.06848736, 15.63270745, 16.84532608, 19.35431552,  5.7326045 ,\n",
       "        8.5688432 ,  4.32015455, 18.06976186,  5.79838441, 19.28022566,\n",
       "        9.79079754, 18.13978036, 22.01652102, 14.08934136, 20.18595489,\n",
       "       17.3800937 , 16.52437214,  6.93830136, 19.42530105, 21.3776694 ,\n",
       "       21.95507113, 19.45973203, 14.911735  , 17.44516047, 17.90369167,\n",
       "       11.86005179, 20.9240418 , 26.46761524, 19.39365719, 17.8944654 ,\n",
       "       18.43367506, 19.05939918, 12.90535696, 18.1824136 , 18.98719021,\n",
       "       18.07905416, 15.24348492, 18.66771488, 17.17816601, 19.0745963 ,\n",
       "       31.01276172, 18.94322848, 17.52924563, 13.24263787, 20.36573728,\n",
       "       15.79925649, 18.83251899, 23.33220709, 14.14401001, 16.32190009,\n",
       "       13.36404405, 28.45414124, 19.5243889 , 11.35206029, 19.81794713,\n",
       "       18.48552775,  9.00917203, 19.58663562, 14.01564965, 19.34041355,\n",
       "       17.41711023,  6.59561043, 13.62214193, 15.09794187,  7.14826791,\n",
       "        5.10186325, 17.59721864,  4.62835951,  9.69628653, 10.70200984,\n",
       "       26.03259312, 15.98958322,  9.09368573, 18.58802303,  6.83097829,\n",
       "        9.20821537, 12.03543462,  9.87724164, 11.93480436, 17.55508768,\n",
       "       13.15616384, 11.19973776, 10.8470703 , 18.58825971,  5.10071133,\n",
       "        7.1092271 , 21.91109331])"
      ]
     },
     "execution_count": 120,
     "metadata": {},
     "output_type": "execute_result"
    }
   ],
   "source": [
    "Yt"
   ]
  },
  {
   "cell_type": "markdown",
   "metadata": {},
   "source": [
    "## T-Learner  \n",
    "### https://blog.uni-3.app/2020/02/29/causalml-tlearner-ate/\n",
    "### https://github.com/microsoft/EconML/blob/master/notebooks/Metalearners%20Examples.ipynb"
   ]
  },
  {
   "cell_type": "code",
   "execution_count": 12,
   "metadata": {},
   "outputs": [
    {
     "data": {
      "text/html": [
       "<div>\n",
       "<style scoped>\n",
       "    .dataframe tbody tr th:only-of-type {\n",
       "        vertical-align: middle;\n",
       "    }\n",
       "\n",
       "    .dataframe tbody tr th {\n",
       "        vertical-align: top;\n",
       "    }\n",
       "\n",
       "    .dataframe thead th {\n",
       "        text-align: right;\n",
       "    }\n",
       "</style>\n",
       "<table border=\"1\" class=\"dataframe\">\n",
       "  <thead>\n",
       "    <tr style=\"text-align: right;\">\n",
       "      <th></th>\n",
       "      <th>cm_dummy</th>\n",
       "      <th>gamedummy</th>\n",
       "      <th>area_kanto</th>\n",
       "      <th>area_keihan</th>\n",
       "      <th>area_tokai</th>\n",
       "      <th>area_keihanshin</th>\n",
       "      <th>age</th>\n",
       "      <th>sex</th>\n",
       "      <th>marry_dummy</th>\n",
       "      <th>job_dummy1</th>\n",
       "      <th>...</th>\n",
       "      <th>T</th>\n",
       "      <th>F1</th>\n",
       "      <th>F2</th>\n",
       "      <th>F3</th>\n",
       "      <th>M1</th>\n",
       "      <th>M2</th>\n",
       "      <th>M3</th>\n",
       "      <th>TVwatch_day</th>\n",
       "      <th>gamesecond</th>\n",
       "      <th>gamecount</th>\n",
       "    </tr>\n",
       "  </thead>\n",
       "  <tbody>\n",
       "    <tr>\n",
       "      <th>0</th>\n",
       "      <td>0</td>\n",
       "      <td>0</td>\n",
       "      <td>0</td>\n",
       "      <td>0</td>\n",
       "      <td>0</td>\n",
       "      <td>1</td>\n",
       "      <td>44.5</td>\n",
       "      <td>1</td>\n",
       "      <td>1</td>\n",
       "      <td>1</td>\n",
       "      <td>...</td>\n",
       "      <td>0</td>\n",
       "      <td>0</td>\n",
       "      <td>0</td>\n",
       "      <td>0</td>\n",
       "      <td>0</td>\n",
       "      <td>1</td>\n",
       "      <td>0</td>\n",
       "      <td>33.427600</td>\n",
       "      <td>0</td>\n",
       "      <td>0</td>\n",
       "    </tr>\n",
       "    <tr>\n",
       "      <th>1</th>\n",
       "      <td>0</td>\n",
       "      <td>0</td>\n",
       "      <td>0</td>\n",
       "      <td>1</td>\n",
       "      <td>0</td>\n",
       "      <td>0</td>\n",
       "      <td>34.5</td>\n",
       "      <td>1</td>\n",
       "      <td>1</td>\n",
       "      <td>1</td>\n",
       "      <td>...</td>\n",
       "      <td>0</td>\n",
       "      <td>0</td>\n",
       "      <td>0</td>\n",
       "      <td>0</td>\n",
       "      <td>0</td>\n",
       "      <td>1</td>\n",
       "      <td>0</td>\n",
       "      <td>31.542862</td>\n",
       "      <td>0</td>\n",
       "      <td>0</td>\n",
       "    </tr>\n",
       "    <tr>\n",
       "      <th>2</th>\n",
       "      <td>0</td>\n",
       "      <td>0</td>\n",
       "      <td>0</td>\n",
       "      <td>1</td>\n",
       "      <td>0</td>\n",
       "      <td>0</td>\n",
       "      <td>24.5</td>\n",
       "      <td>1</td>\n",
       "      <td>0</td>\n",
       "      <td>0</td>\n",
       "      <td>...</td>\n",
       "      <td>0</td>\n",
       "      <td>0</td>\n",
       "      <td>0</td>\n",
       "      <td>0</td>\n",
       "      <td>1</td>\n",
       "      <td>0</td>\n",
       "      <td>0</td>\n",
       "      <td>37.825805</td>\n",
       "      <td>0</td>\n",
       "      <td>0</td>\n",
       "    </tr>\n",
       "    <tr>\n",
       "      <th>3</th>\n",
       "      <td>0</td>\n",
       "      <td>0</td>\n",
       "      <td>0</td>\n",
       "      <td>1</td>\n",
       "      <td>0</td>\n",
       "      <td>0</td>\n",
       "      <td>44.5</td>\n",
       "      <td>1</td>\n",
       "      <td>1</td>\n",
       "      <td>1</td>\n",
       "      <td>...</td>\n",
       "      <td>0</td>\n",
       "      <td>0</td>\n",
       "      <td>0</td>\n",
       "      <td>0</td>\n",
       "      <td>0</td>\n",
       "      <td>1</td>\n",
       "      <td>0</td>\n",
       "      <td>36.345911</td>\n",
       "      <td>0</td>\n",
       "      <td>0</td>\n",
       "    </tr>\n",
       "    <tr>\n",
       "      <th>4</th>\n",
       "      <td>0</td>\n",
       "      <td>0</td>\n",
       "      <td>0</td>\n",
       "      <td>1</td>\n",
       "      <td>0</td>\n",
       "      <td>0</td>\n",
       "      <td>34.5</td>\n",
       "      <td>1</td>\n",
       "      <td>1</td>\n",
       "      <td>1</td>\n",
       "      <td>...</td>\n",
       "      <td>0</td>\n",
       "      <td>0</td>\n",
       "      <td>0</td>\n",
       "      <td>0</td>\n",
       "      <td>1</td>\n",
       "      <td>0</td>\n",
       "      <td>0</td>\n",
       "      <td>49.344942</td>\n",
       "      <td>0</td>\n",
       "      <td>0</td>\n",
       "    </tr>\n",
       "  </tbody>\n",
       "</table>\n",
       "<p>5 rows × 35 columns</p>\n",
       "</div>"
      ],
      "text/plain": [
       "   cm_dummy  gamedummy  area_kanto  area_keihan  area_tokai  area_keihanshin  \\\n",
       "0         0          0           0            0           0                1   \n",
       "1         0          0           0            1           0                0   \n",
       "2         0          0           0            1           0                0   \n",
       "3         0          0           0            1           0                0   \n",
       "4         0          0           0            1           0                0   \n",
       "\n",
       "    age  sex  marry_dummy  job_dummy1  ...  T  F1  F2  F3  M1  M2  M3  \\\n",
       "0  44.5    1            1           1  ...  0   0   0   0   0   1   0   \n",
       "1  34.5    1            1           1  ...  0   0   0   0   0   1   0   \n",
       "2  24.5    1            0           0  ...  0   0   0   0   1   0   0   \n",
       "3  44.5    1            1           1  ...  0   0   0   0   0   1   0   \n",
       "4  34.5    1            1           1  ...  0   0   0   0   1   0   0   \n",
       "\n",
       "   TVwatch_day  gamesecond  gamecount  \n",
       "0    33.427600           0          0  \n",
       "1    31.542862           0          0  \n",
       "2    37.825805           0          0  \n",
       "3    36.345911           0          0  \n",
       "4    49.344942           0          0  \n",
       "\n",
       "[5 rows x 35 columns]"
      ]
     },
     "execution_count": 12,
     "metadata": {},
     "output_type": "execute_result"
    }
   ],
   "source": [
    "# READING\n",
    "data_df = pd.read_csv('https://github.com/iwanami-datascience/vol3/raw/master/kato%26hoshino/q_data_x.csv')\n",
    "data_df.head()"
   ]
  },
  {
   "cell_type": "code",
   "execution_count": 17,
   "metadata": {},
   "outputs": [],
   "source": [
    "# 説明変数と目的変数を指定\n",
    "cols = [\"child_dummy\", \"area_kanto\", \"area_tokai\", \"area_keihanshin\",\n",
    "        \"T\", \"F1\", \"F2\", \"F3\", \"M1\", \"M2\"]\n",
    "\n",
    "X = data_df[cols]\n",
    "y = pd.DataFrame(data_df.gamesecond)\n",
    "\n",
    "# CMありをtreatment, CMなしをcontrolとする\n",
    "treat =  data_df[\"cm_dummy\"]"
   ]
  },
  {
   "cell_type": "code",
   "execution_count": 43,
   "metadata": {},
   "outputs": [],
   "source": [
    "# train, test半分ずつに分ける\n",
    "y_train, y_test, train_treat, test_treat, X_train, X_test = train_test_split(y.values, treat, X, test_size=0.3, random_state=2)"
   ]
  },
  {
   "cell_type": "code",
   "execution_count": 44,
   "metadata": {},
   "outputs": [],
   "source": [
    "# 整形\n",
    "y_train =  pd.DataFrame(y_train[:,0])\n",
    "y_test  =  pd.DataFrame(y_test[:,0])\n",
    "\n",
    "X_train = X_train.reset_index(drop=True)\n",
    "X_test  = X_test.reset_index(drop=True)\n",
    "\n",
    "train_treat  = train_treat.reset_index(drop=True)\n",
    "test_treat = test_treat.reset_index(drop=True)"
   ]
  },
  {
   "cell_type": "code",
   "execution_count": 129,
   "metadata": {},
   "outputs": [],
   "source": [
    "y_train_np =  y_train.values[:,0]"
   ]
  },
  {
   "cell_type": "code",
   "execution_count": 136,
   "metadata": {},
   "outputs": [],
   "source": [
    "test = train_treat.values"
   ]
  },
  {
   "cell_type": "code",
   "execution_count": 137,
   "metadata": {},
   "outputs": [
    {
     "data": {
      "text/plain": [
       "array([0, 0, 0, ..., 1, 0, 1], dtype=int64)"
      ]
     },
     "execution_count": 137,
     "metadata": {},
     "output_type": "execute_result"
    }
   ],
   "source": [
    "test"
   ]
  },
  {
   "cell_type": "code",
   "execution_count": 138,
   "metadata": {},
   "outputs": [],
   "source": [
    "# 整形２＿numpyデータ作成\n",
    "y_train_np =  y_train.values[:,0]\n",
    "y_test_np  =  y_test.values[:,0]\n",
    "\n",
    "X_train_np = X_train.values\n",
    "X_test_np  = X_test.values\n",
    "\n",
    "train_treat_np  = train_treat.values\n",
    "test_treat_np   = test_treat.values"
   ]
  },
  {
   "cell_type": "code",
   "execution_count": 59,
   "metadata": {},
   "outputs": [],
   "source": [
    "from sklearn.ensemble import GradientBoostingRegressor\n",
    "\n",
    "# T-learnerを初期化.\n",
    "models = GradientBoostingRegressor(n_estimators=100, max_depth=6, min_samples_leaf=15)\n",
    "T_learner = TLearner(models)"
   ]
  },
  {
   "cell_type": "code",
   "execution_count": 61,
   "metadata": {},
   "outputs": [
    {
     "name": "stderr",
     "output_type": "stream",
     "text": [
      "C:\\Users\\araik\\Anaconda3\\lib\\site-packages\\sklearn\\ensemble\\_gb.py:1454: DataConversionWarning: A column-vector y was passed when a 1d array was expected. Please change the shape of y to (n_samples, ), for example using ravel().\n",
      "  y = column_or_1d(y, warn=True)\n",
      "C:\\Users\\araik\\Anaconda3\\lib\\site-packages\\sklearn\\ensemble\\_gb.py:1454: DataConversionWarning: A column-vector y was passed when a 1d array was expected. Please change the shape of y to (n_samples, ), for example using ravel().\n",
      "  y = column_or_1d(y, warn=True)\n"
     ]
    }
   ],
   "source": [
    "# 学習 (fit methodの引数に介入有無を表す変数Tがあるのがsklearnとの違い)\n",
    "T_learner.fit(y_train, train_treat , X_train)\n",
    "# CATEを推定.\n",
    "cate_pred = T_learner.effect(X_test)"
   ]
  },
  {
   "cell_type": "code",
   "execution_count": 78,
   "metadata": {
    "scrolled": true
   },
   "outputs": [
    {
     "data": {
      "image/png": "[encoded data removed]",
      "text/plain": [
       "<Figure size 504x360 with 1 Axes>"
      ]
     },
     "metadata": {
      "needs_background": "light"
     },
     "output_type": "display_data"
    }
   ],
   "source": [
    "### Comparison plot of the different learners\n",
    "plt.figure(figsize=(7, 5))\n",
    "plt.scatter(X_test.iloc[:, 0], cate_pred, label=\"T-learner\")\n",
    "plt.xlabel('$x_1$')\n",
    "plt.ylabel('Treatment Effect')\n",
    "plt.legend()\n",
    "plt.show()"
   ]
  },
  {
   "cell_type": "code",
   "execution_count": 87,
   "metadata": {},
   "outputs": [],
   "source": [
    "#実測値と予測値とのズレ、結構大きい。改善点「予測式に「0以上」を追加する。ベイズ」"
   ]
  },
  {
   "cell_type": "markdown",
   "metadata": {},
   "source": [
    "## X-Learner  \n",
    "### https://qiita.com/shin_mura/items/e9568ff8b478e15b0950"
   ]
  },
  {
   "cell_type": "code",
   "execution_count": 89,
   "metadata": {},
   "outputs": [],
   "source": [
    "from sklearn.ensemble import RandomForestClassifier"
   ]
  },
  {
   "cell_type": "code",
   "execution_count": 139,
   "metadata": {},
   "outputs": [],
   "source": [
    "# Instantiate X learner\n",
    "models = GradientBoostingRegressor(n_estimators=100, max_depth=6, min_samples_leaf=15 )\n",
    "propensity_model = RandomForestClassifier(n_estimators=100, max_depth=6, \n",
    "                                                  min_samples_leaf=15,\n",
    "                                                  class_weight='balanced_subsample')\n",
    "X_learner = XLearner(models=models, propensity_model=propensity_model)\n",
    "# Train X_learner\n",
    "X_learner.fit(y_train_np, train_treat_np, X_train_np)\n",
    "# CATEを推定.\n",
    "cate_predX = X_learner.effect(X_test)"
   ]
  },
  {
   "cell_type": "code",
   "execution_count": 145,
   "metadata": {},
   "outputs": [
    {
     "data": {
      "image/png": "[encoded data removed]",
      "text/plain": [
       "<Figure size 504x360 with 1 Axes>"
      ]
     },
     "metadata": {
      "needs_background": "light"
     },
     "output_type": "display_data"
    }
   ],
   "source": [
    "### Comparison plot of the different learners\n",
    "plt.figure(figsize=(7, 5))\n",
    "plt.scatter(X_test.iloc[:, 5], cate_predX, label=\"X-learner\")\n",
    "plt.xlabel('$x_1$')\n",
    "plt.ylabel('Treatment Effect')\n",
    "plt.legend()\n",
    "plt.show()"
   ]
  },
  {
   "cell_type": "code",
   "execution_count": 146,
   "metadata": {},
   "outputs": [],
   "source": [
    "#X-Learnerは、傾向スコアによる交絡因子の補正が可能である。"
   ]
  },
  {
   "cell_type": "markdown",
   "metadata": {},
   "source": [
    "## DoublyRobustLearner  \n",
    "### https://qiita.com/shin_mura/items/e9568ff8b478e15b0950"
   ]
  },
  {
   "cell_type": "code",
   "execution_count": null,
   "metadata": {},
   "outputs": [],
   "source": []
  },
  {
   "cell_type": "code",
   "execution_count": null,
   "metadata": {},
   "outputs": [],
   "source": []
  }
 ],
 "metadata": {
  "kernelspec": {
   "display_name": "Python 3",
   "language": "python",
   "name": "python3"
  },
  "language_info": {
   "codemirror_mode": {
    "name": "ipython",
    "version": 3
   },
   "file_extension": ".py",
   "mimetype": "text/x-python",
   "name": "python",
   "nbconvert_exporter": "python",
   "pygments_lexer": "ipython3",
   "version": "3.7.3"
  }
 },
 "nbformat": 4,
 "nbformat_minor": 2
}
